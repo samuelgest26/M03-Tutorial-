{
 "cells": [
  {
   "cell_type": "code",
   "execution_count": 14,
   "id": "113a1cf0",
   "metadata": {},
   "outputs": [],
   "source": [
    "def vol(rad):\n",
    "   return 4/3 * 3.14 * rad**3"
   ]
  },
  {
   "cell_type": "code",
   "execution_count": 15,
   "id": "6b78768a",
   "metadata": {},
   "outputs": [
    {
     "data": {
      "text/plain": [
       "33.49333333333333"
      ]
     },
     "execution_count": 15,
     "metadata": {},
     "output_type": "execute_result"
    }
   ],
   "source": [
    "vol(2)"
   ]
  },
  {
   "cell_type": "code",
   "execution_count": 23,
   "id": "f553e847",
   "metadata": {},
   "outputs": [],
   "source": [
    "def ran_check(num, low, high):\n",
    "    if num in range (low, high):\n",
    "        print(num, \"is in the range between\", low, \"and \", high)"
   ]
  },
  {
   "cell_type": "code",
   "execution_count": 24,
   "id": "20724933",
   "metadata": {},
   "outputs": [
    {
     "name": "stdout",
     "output_type": "stream",
     "text": [
      "5 is in the range between 2 and  7\n"
     ]
    }
   ],
   "source": [
    "ran_check(5,2,7)"
   ]
  },
  {
   "cell_type": "code",
   "execution_count": 25,
   "id": "1aa57311",
   "metadata": {},
   "outputs": [],
   "source": [
    "def ran_bool(num, low, high):\n",
    "    if num in range (low, high):\n",
    "        return True \n",
    "    else: \n",
    "        return False "
   ]
  },
  {
   "cell_type": "code",
   "execution_count": 27,
   "id": "82378f16",
   "metadata": {},
   "outputs": [
    {
     "data": {
      "text/plain": [
       "False"
      ]
     },
     "execution_count": 27,
     "metadata": {},
     "output_type": "execute_result"
    }
   ],
   "source": [
    "ran_bool(0,1,10)"
   ]
  },
  {
   "cell_type": "code",
   "execution_count": 44,
   "id": "13ae22a6",
   "metadata": {},
   "outputs": [],
   "source": [
    "def up_low(s):\n",
    "    uppers = 0 \n",
    "    lowers = 0\n",
    "    for c in s:\n",
    "        if c.islower():\n",
    "            lowers += 1\n",
    "        elif c.isupper():\n",
    "            uppers += 1\n",
    "        else:\n",
    "            pass\n",
    "    print(\"No. of Upper case characters: \", uppers,\"\\n\" \"No. of Lower case characters: \", lowers)"
   ]
  },
  {
   "cell_type": "code",
   "execution_count": 45,
   "id": "b53c1576",
   "metadata": {},
   "outputs": [
    {
     "name": "stdout",
     "output_type": "stream",
     "text": [
      "No. of Upper case characters:  4 \n",
      "No. of Lower case characters:  33\n"
     ]
    }
   ],
   "source": [
    "s = \"Hello Mr.Rogers, how are you this fine Tuesday?\"\n",
    "up_low(s)"
   ]
  },
  {
   "cell_type": "code",
   "execution_count": 46,
   "id": "9f8e410a",
   "metadata": {},
   "outputs": [],
   "source": [
    "def unique_list(lst):\n",
    "    unique = []\n",
    "    for item in lst:\n",
    "        if item not in unique:\n",
    "            unique.append(item)\n",
    "    return unique "
   ]
  },
  {
   "cell_type": "code",
   "execution_count": 47,
   "id": "f7e0d863",
   "metadata": {},
   "outputs": [
    {
     "data": {
      "text/plain": [
       "[1, 2, 3, 4, 5]"
      ]
     },
     "execution_count": 47,
     "metadata": {},
     "output_type": "execute_result"
    }
   ],
   "source": [
    "unique_list([1,1,1,1,2,2,3,3,3,3,4,5])"
   ]
  },
  {
   "cell_type": "code",
   "execution_count": 48,
   "id": "9e52a9c5",
   "metadata": {},
   "outputs": [],
   "source": [
    "def multiply(numbers):\n",
    "    total = 1\n",
    "    for n in numbers:\n",
    "        total *= n \n",
    "    return total"
   ]
  },
  {
   "cell_type": "code",
   "execution_count": 49,
   "id": "c7fbaa0c",
   "metadata": {},
   "outputs": [
    {
     "data": {
      "text/plain": [
       "-24"
      ]
     },
     "execution_count": 49,
     "metadata": {},
     "output_type": "execute_result"
    }
   ],
   "source": [
    "multiply([1,2,3,-4])"
   ]
  },
  {
   "cell_type": "code",
   "execution_count": 52,
   "id": "99931939",
   "metadata": {},
   "outputs": [],
   "source": [
    "def palindrome(s):\n",
    "    reverse = ''.join(reversed(s))\n",
    "    if (s == reverse):\n",
    "        return True \n",
    "    return False "
   ]
  },
  {
   "cell_type": "code",
   "execution_count": 55,
   "id": "2664273a",
   "metadata": {},
   "outputs": [
    {
     "data": {
      "text/plain": [
       "True"
      ]
     },
     "execution_count": 55,
     "metadata": {},
     "output_type": "execute_result"
    }
   ],
   "source": [
    "palindrome('helleh')"
   ]
  },
  {
   "cell_type": "code",
   "execution_count": 58,
   "id": "ad9fc7eb",
   "metadata": {},
   "outputs": [],
   "source": [
    "import string \n",
    "\n",
    "def ispangram(str1, alphabet=string.ascii_lowercase):\n",
    "    return set(alphabet) <= set(str1.lower())"
   ]
  },
  {
   "cell_type": "code",
   "execution_count": 59,
   "id": "a2b62871",
   "metadata": {},
   "outputs": [
    {
     "data": {
      "text/plain": [
       "True"
      ]
     },
     "execution_count": 59,
     "metadata": {},
     "output_type": "execute_result"
    }
   ],
   "source": [
    "ispangram(\"The quick brown fox jumps over the lazy dog\")"
   ]
  }
 ],
 "metadata": {
  "kernelspec": {
   "display_name": "Python 3 (ipykernel)",
   "language": "python",
   "name": "python3"
  },
  "language_info": {
   "codemirror_mode": {
    "name": "ipython",
    "version": 3
   },
   "file_extension": ".py",
   "mimetype": "text/x-python",
   "name": "python",
   "nbconvert_exporter": "python",
   "pygments_lexer": "ipython3",
   "version": "3.10.5"
  }
 },
 "nbformat": 4,
 "nbformat_minor": 5
}
